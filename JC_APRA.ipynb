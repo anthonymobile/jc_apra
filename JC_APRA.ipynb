{
 "cells": [
  {
   "cell_type": "markdown",
   "id": "b872e321-e044-44be-8a70-4820b9a25444",
   "metadata": {},
   "source": [
    "# 2021 APRA data for Jersey City"
   ]
  },
  {
   "cell_type": "code",
   "execution_count": 1,
   "id": "375dcc81-ee52-430c-95ac-f8dc68f740a4",
   "metadata": {},
   "outputs": [],
   "source": [
    "import pandas as pd"
   ]
  },
  {
   "cell_type": "code",
   "execution_count": 2,
   "id": "a8b46112-48e9-4499-870f-49bbd28d5e59",
   "metadata": {},
   "outputs": [],
   "source": [
    "# PDFs converted manually using Tabula for Mac"
   ]
  },
  {
   "cell_type": "code",
   "execution_count": 3,
   "id": "9f979341-2616-4feb-ad9d-867d9a381a38",
   "metadata": {},
   "outputs": [],
   "source": [
    "df_abandoned_2021 = pd.read_csv('./data/abandoned_2021_07.csv')\n",
    "df_abandoned_2021['full_address'] = df_abandoned_2021.address + \", Jersey City, NJ\""
   ]
  },
  {
   "cell_type": "code",
   "execution_count": 4,
   "id": "c6d3c9bd-5be1-4f51-b231-e85a5f3528d7",
   "metadata": {},
   "outputs": [],
   "source": [
    "df_vacant_2021 = pd.read_csv('./data/vacant_2021_07.csv')\n",
    "df_vacant_2021['full_address'] = df_vacant_2021.number + ' ' +  df_vacant_2021.address + \", Jersey City, NJ\""
   ]
  },
  {
   "cell_type": "markdown",
   "id": "ed5a5ae5-1f13-4f3c-90ff-a62328a51ad4",
   "metadata": {},
   "source": [
    "# geocoding"
   ]
  },
  {
   "cell_type": "code",
   "execution_count": 5,
   "id": "018b25c7-0685-4634-abda-99e7ddfd732c",
   "metadata": {},
   "outputs": [],
   "source": [
    "# https://peterhaas-me.medium.com/how-to-geocode-with-python-and-pandas-4cd1d717d3f7"
   ]
  },
  {
   "cell_type": "code",
   "execution_count": 6,
   "id": "ca4d70c8-11ec-4437-b212-a48cda57b9c2",
   "metadata": {},
   "outputs": [
    {
     "name": "stdout",
     "output_type": "stream",
     "text": [
      "Requirement already satisfied: geopy in /opt/bin/miniconda3/envs/geo/lib/python3.9/site-packages (2.2.0)\n",
      "Requirement already satisfied: nominatim in /opt/bin/miniconda3/envs/geo/lib/python3.9/site-packages (0.1)\n",
      "Requirement already satisfied: geographiclib<2,>=1.49 in /opt/bin/miniconda3/envs/geo/lib/python3.9/site-packages (from geopy) (1.52)\n"
     ]
    }
   ],
   "source": [
    "!pip install geopy nominatim"
   ]
  },
  {
   "cell_type": "code",
   "execution_count": 7,
   "id": "832d6608-9399-4c66-aeba-fea99cfaecf0",
   "metadata": {},
   "outputs": [],
   "source": [
    "from geopy.geocoders import Nominatim\n",
    "from geopandas.tools import geocode\n",
    "geolocator = Nominatim(timeout=10, user_agent = \"jc-apra\")"
   ]
  },
  {
   "cell_type": "markdown",
   "id": "d0b39384-3dbe-4ef4-9293-b52c52d449ac",
   "metadata": {},
   "source": [
    "### 2021 abandoned"
   ]
  },
  {
   "cell_type": "code",
   "execution_count": 9,
   "id": "a30948c5-6393-4dad-94b8-89a10a768534",
   "metadata": {},
   "outputs": [
    {
     "data": {
      "text/html": [
       "<div>\n",
       "<style scoped>\n",
       "    .dataframe tbody tr th:only-of-type {\n",
       "        vertical-align: middle;\n",
       "    }\n",
       "\n",
       "    .dataframe tbody tr th {\n",
       "        vertical-align: top;\n",
       "    }\n",
       "\n",
       "    .dataframe thead th {\n",
       "        text-align: right;\n",
       "    }\n",
       "</style>\n",
       "<table border=\"1\" class=\"dataframe\">\n",
       "  <thead>\n",
       "    <tr style=\"text-align: right;\">\n",
       "      <th></th>\n",
       "      <th>address</th>\n",
       "      <th>block</th>\n",
       "      <th>lot</th>\n",
       "      <th>full_address</th>\n",
       "      <th>gcode</th>\n",
       "    </tr>\n",
       "  </thead>\n",
       "  <tbody>\n",
       "    <tr>\n",
       "      <th>33</th>\n",
       "      <td>1904 Kennedy Boulevard aka JFK Blv2d5503</td>\n",
       "      <td>9</td>\n",
       "      <td>NaN</td>\n",
       "      <td>1904 Kennedy Boulevard aka JFK Blv2d5503, Jers...</td>\n",
       "      <td>None</td>\n",
       "    </tr>\n",
       "    <tr>\n",
       "      <th>37</th>\n",
       "      <td>10 Morton Place 22405</td>\n",
       "      <td>5</td>\n",
       "      <td>NaN</td>\n",
       "      <td>10 Morton Place 22405, Jersey City, NJ</td>\n",
       "      <td>(10, Morton Place, West Bergen, Jersey City, H...</td>\n",
       "    </tr>\n",
       "  </tbody>\n",
       "</table>\n",
       "</div>"
      ],
      "text/plain": [
       "                                     address block  lot  \\\n",
       "33  1904 Kennedy Boulevard aka JFK Blv2d5503     9  NaN   \n",
       "37                     10 Morton Place 22405     5  NaN   \n",
       "\n",
       "                                         full_address  \\\n",
       "33  1904 Kennedy Boulevard aka JFK Blv2d5503, Jers...   \n",
       "37             10 Morton Place 22405, Jersey City, NJ   \n",
       "\n",
       "                                                gcode  \n",
       "33                                               None  \n",
       "37  (10, Morton Place, West Bergen, Jersey City, H...  "
      ]
     },
     "execution_count": 9,
     "metadata": {},
     "output_type": "execute_result"
    }
   ],
   "source": [
    "df_abandoned_2021['gcode'] = df_abandoned_2021.full_address.apply(geolocator.geocode)\n",
    "# todo print the ones where 'gcode' is na\n",
    "not_geocoded = df_abandoned_2021[df_abandoned_2021.isna().any(axis=1)]\n",
    "not_geocoded"
   ]
  },
  {
   "cell_type": "code",
   "execution_count": 10,
   "id": "d9d8e3ec-ba12-47bb-bcdf-907989039bcd",
   "metadata": {},
   "outputs": [],
   "source": [
    "# drop the not geocoded and copy geocoded coods to geometry\n",
    "df_abandoned_2021.dropna(axis=0, how='any', inplace=True )\n",
    "df_abandoned_2021['lat'] = [g.latitude for g in df_abandoned_2021.gcode]\n",
    "df_abandoned_2021['lon'] = [g.longitude for g in df_abandoned_2021.gcode]"
   ]
  },
  {
   "cell_type": "code",
   "execution_count": 11,
   "id": "21a38631-ebbc-499c-b97a-41ab9630efe8",
   "metadata": {},
   "outputs": [],
   "source": [
    "### 2021 vacant"
   ]
  },
  {
   "cell_type": "code",
   "execution_count": null,
   "id": "b06c8d5e-e7e1-4719-9c86-c22ce2b9483a",
   "metadata": {},
   "outputs": [],
   "source": [
    "df_vacant_2021['gcode'] = df_vacant_2021.full_address.apply(geolocator.geocode)\n",
    "# todo print the ones where 'gcode' is na\n",
    "not_geocoded = df_vacant_2021[df_vacant_2021.isna().any(axis=1)]\n",
    "not_geocoded"
   ]
  },
  {
   "cell_type": "code",
   "execution_count": null,
   "id": "eeca2e60-370c-4869-a0b5-1043f86019d0",
   "metadata": {},
   "outputs": [],
   "source": [
    "# drop the not geocoded and copy geocoded coods to geometry\n",
    "df_vacant_2021.dropna(axis=0, how='any', inplace=True )\n",
    "df_vacant_2021['lat'] = [g.latitude for g in df_vacant_2021.gcode]\n",
    "df_vacant_2021['lon'] = [g.longitude for g in df_vacant_2021.gcode]"
   ]
  },
  {
   "cell_type": "markdown",
   "id": "46cda7b7-b9c2-4685-8fc8-3bf085aef966",
   "metadata": {},
   "source": [
    "# mapping"
   ]
  },
  {
   "cell_type": "code",
   "execution_count": null,
   "id": "3a75c173-eb24-41dc-bbf7-fbe2c044df63",
   "metadata": {},
   "outputs": [],
   "source": [
    "# ! pip install folium geopandas"
   ]
  },
  {
   "cell_type": "code",
   "execution_count": null,
   "id": "870e045b-1f7d-4a2c-bf10-023ea09f9c79",
   "metadata": {},
   "outputs": [],
   "source": [
    "import folium, geopandas"
   ]
  },
  {
   "cell_type": "markdown",
   "id": "2b5c0715-6307-48fa-ac9f-29c562866ad7",
   "metadata": {},
   "source": [
    "## map 0 standard markers"
   ]
  },
  {
   "cell_type": "code",
   "execution_count": null,
   "id": "b0800989-0953-40e3-9134-64732086b06f",
   "metadata": {},
   "outputs": [],
   "source": [
    "import folium"
   ]
  },
  {
   "cell_type": "code",
   "execution_count": null,
   "id": "5792c293-a176-46b1-b99a-62e9f9b52be9",
   "metadata": {},
   "outputs": [],
   "source": [
    "my_map = folium.Map(\n",
    "    location=[40.7128,-74.1],\n",
    "    tiles='Stamen Toner',\n",
    "    zoom_start=14)\n",
    "\n",
    "\n",
    "for index, row in df_vacant_2021.iterrows():\n",
    "    folium.Marker(location=(row['lat'],row['lon']), popup=str(row.number + row.address), icon=folium.Icon(color='orange',icon='home', icon_color='#FFffff')).add_to(my_map) \n",
    "    \n",
    "for index, row in df_abandoned_2021.iterrows():\n",
    "    folium.Marker(location=(row['lat'],row['lon']), popup=str(row.address), icon=folium.Icon(color='red',icon='home', icon_color='#FFffff')).add_to(my_map)\n",
    "\n",
    "    \n",
    "display(my_map)"
   ]
  },
  {
   "cell_type": "code",
   "execution_count": null,
   "id": "21123e40-94a8-4e49-b566-964e2167fce2",
   "metadata": {},
   "outputs": [],
   "source": [
    "# map2 highlighting parcel polygons"
   ]
  },
  {
   "cell_type": "code",
   "execution_count": null,
   "id": "19a9c4bc-46f0-49a0-b1aa-46b66456de01",
   "metadata": {},
   "outputs": [],
   "source": [
    "# convert the dataframes to geodataframes\n",
    "# Convert the DataFrame's content (e.g. Lat and Lon columns) into appropriate Shapely geometries first and then use them together with the original DataFrame to create a GeoDataFrame.\n",
    "\n",
    "from geopandas import GeoDataFrame\n",
    "from shapely.geometry import Point\n",
    "\n",
    "\n",
    "# abandoned\n",
    "geometry_abandoned = [Point(xy) for xy in zip(df_abandoned_2021.lon, df_abandoned_2021.lat)]\n",
    "df_abandoned_2021 = df_abandoned_2021.drop(['lon', 'lat'], axis=1)\n",
    "gdf_abandoned_2021 = GeoDataFrame(df_abandoned_2021, crs=\"EPSG:4326\", geometry=geometry_abandoned)\n",
    "\n",
    "# vacants\n",
    "geometry_vacant = [Point(xy) for xy in zip(df_vacant_2021.lon, df_vacant_2021.lat)]\n",
    "df_vacant_2021 = df_vacant_2021.drop(['lon', 'lat'], axis=1)\n",
    "gdf_vacant_2021 = GeoDataFrame(df_abandoned_2021, crs=\"EPSG:4326\", geometry=geometry_vacant)\n",
    "\n"
   ]
  },
  {
   "cell_type": "code",
   "execution_count": null,
   "id": "3c59e470-76c0-4fe6-b294-18d6ccf5458e",
   "metadata": {},
   "outputs": [],
   "source": []
  },
  {
   "cell_type": "code",
   "execution_count": null,
   "id": "2055b46d-45f0-4a69-b372-571466e43c4c",
   "metadata": {},
   "outputs": [],
   "source": []
  },
  {
   "cell_type": "markdown",
   "id": "eb8d1393-89e4-41c2-9cfd-ee40b6675f59",
   "metadata": {},
   "source": [
    "----------------------------------------------------------------------------------------------------"
   ]
  },
  {
   "cell_type": "markdown",
   "id": "59fe74b3-8759-433c-8245-c3ce750f904c",
   "metadata": {},
   "source": [
    "## TODO a map using marker clusters (what's the mapped variable?)"
   ]
  },
  {
   "cell_type": "code",
   "execution_count": 19,
   "id": "13a21d36-6b1c-4e3a-9d28-473bc135f62f",
   "metadata": {},
   "outputs": [],
   "source": [
    "# # folium marker clusters\n",
    "# from folium.plugins import MarkerCluster\n",
    "# locations = []\n",
    "\n",
    "# # City location geometries to a list of latlongs pairs  \n",
    "# for idx, row in gdf.iterrows():\n",
    "#     locations.append([row['geometry'].y, row['geometry'].x])\n",
    "\n",
    "#     # Empty canvas\n",
    "# m = folium.Map(\n",
    "#     location=[40.7128,-74.1],\n",
    "#     tiles='Stamen Toner',\n",
    "#     zoom_start=12)\n",
    "\n",
    "# # Markercluster\n",
    "# m.add_child(MarkerCluster(locations=locations))\n",
    "# m"
   ]
  },
  {
   "cell_type": "markdown",
   "id": "6937f8a7-fa62-4d3d-ad97-4cd232301330",
   "metadata": {},
   "source": [
    "## TODO a heatmap"
   ]
  },
  {
   "cell_type": "code",
   "execution_count": 20,
   "id": "d4b04291-c62c-49b8-b406-5e41e9253d0d",
   "metadata": {},
   "outputs": [],
   "source": [
    "# # folium heat map\n",
    "# from folium.plugins import HeatMap\n",
    "# m = folium.Map()\n",
    "# m.add_child(HeatMap(locations, radius=15))\n",
    "# m"
   ]
  },
  {
   "cell_type": "markdown",
   "id": "176b3b87-67b7-48dc-95ac-efc7109aed2a",
   "metadata": {},
   "source": [
    "## TODO a chloropleth on parcels 9what's the mapped variable?)"
   ]
  },
  {
   "cell_type": "code",
   "execution_count": 21,
   "id": "e9e563c6-6564-428f-85fb-a5488f08aca9",
   "metadata": {},
   "outputs": [],
   "source": [
    "# chloropleth mapping in Folium\n",
    "# https://medium.com/analytics-vidhya/create-and-visualize-choropleth-map-with-folium-269d3fd12fa0"
   ]
  },
  {
   "cell_type": "code",
   "execution_count": 22,
   "id": "ade80d84-f589-47ae-a40a-45f46023d868",
   "metadata": {},
   "outputs": [],
   "source": [
    "# # parcels map\n",
    "# style_function = lambda x: {'fillColor': '#00ff00'}\n",
    "\n",
    "# jc_parcels_gdf = geopandas.read_file('https://njgin.state.nj.us/download2/parcels/parcels_shp_dbf_Hudson.zip')\n",
    "# folium.GeoJson(data=jc_parcels_gdf[\"geometry\"], style_function=style_function).add_to(map)\n",
    "# map"
   ]
  },
  {
   "cell_type": "markdown",
   "id": "8ae254ce-13fa-4fc0-b591-6b2ef6315750",
   "metadata": {},
   "source": [
    "# 2014 and 2018 data"
   ]
  },
  {
   "cell_type": "code",
   "execution_count": 23,
   "id": "49d9713e-029c-4420-ab76-256765c89d73",
   "metadata": {},
   "outputs": [],
   "source": [
    "# 2014 to 2018 csvs and xlsx\n",
    "# https://data.jerseycitynj.gov/explore/dataset/vacant-building-inventory-and-abandoned-properties-rehabilitation-act/information/\n",
    "\n",
    "import requests\n",
    "\n",
    "vacant_buildings_and_lots_2014 = 'https://us.ftp.opendatasoft.com/analyzejerseycity/files/Vacant%20Buildings%20and%20Lots/vacantbuildingslotslist2014csv.csv'\n",
    "vacant_buildings_2018 = 'https://us.ftp.opendatasoft.com/analyzejerseycity/files/Vacant%20Buildings%20and%20Lots/vacantbuildinginventory2018csv.csv'\n",
    "abandoned_2016_07 = 'https://us.ftp.opendatasoft.com/analyzejerseycity/files/Vacant%20Buildings%20and%20APRA%20properties/apraproperties201607.xlsx'\n",
    "abandoned_2017_01 = 'https://us.ftp.opendatasoft.com/analyzejerseycity/files/Vacant%20Buildings%20and%20APRA%20properties/apraproperties201701.xlsx'\n",
    "abandoned_2017 = 'https://us.ftp.opendatasoft.com/analyzejerseycity/files/Vacant%20Buildings%20and%20APRA%20properties/publicofficersapralist2018.xlsx'\n",
    "\n",
    "def download_file(url):\n",
    "    import requests\n",
    "    response = requests.get(url)\n",
    "    with open('temp.pdf', 'wb') as f:\n",
    "        f.write(response.content)\n",
    "    return 'temp.pdf'\n",
    "\n",
    "# df = pd.read_csv(download_file(abandoned_2021_07)"
   ]
  }
 ],
 "metadata": {
  "kernelspec": {
   "display_name": "Python [conda env:geo]",
   "language": "python",
   "name": "conda-env-geo-py"
  },
  "language_info": {
   "codemirror_mode": {
    "name": "ipython",
    "version": 3
   },
   "file_extension": ".py",
   "mimetype": "text/x-python",
   "name": "python",
   "nbconvert_exporter": "python",
   "pygments_lexer": "ipython3",
   "version": "3.9.4"
  }
 },
 "nbformat": 4,
 "nbformat_minor": 5
}
