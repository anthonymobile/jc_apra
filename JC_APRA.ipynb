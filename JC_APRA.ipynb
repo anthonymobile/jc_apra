{
 "cells": [
  {
   "cell_type": "markdown",
   "id": "b872e321-e044-44be-8a70-4820b9a25444",
   "metadata": {},
   "source": [
    "# Jersey City Vacant and Abandoned Properties (APRA)"
   ]
  },
  {
   "cell_type": "code",
   "execution_count": null,
   "id": "6d1bf845-b7f9-46ed-a57a-5e276356c8c8",
   "metadata": {},
   "outputs": [],
   "source": [
    "# !pip install folium pandas geopandas geopy nominatim openpyxl"
   ]
  },
  {
   "cell_type": "code",
   "execution_count": null,
   "id": "375dcc81-ee52-430c-95ac-f8dc68f740a4",
   "metadata": {},
   "outputs": [],
   "source": [
    "import pandas as pd\n",
    "import folium\n",
    "from geopy.geocoders import Nominatim\n",
    "from geopandas.tools import geocode\n",
    "import geopandas as gpd\n",
    "import json\n",
    "import datetime"
   ]
  },
  {
   "cell_type": "markdown",
   "id": "73901064-5ff8-4b6f-9610-fa70be0eb3ec",
   "metadata": {},
   "source": [
    "# DATA PREP"
   ]
  },
  {
   "cell_type": "code",
   "execution_count": null,
   "id": "20171f1f-bbb5-412c-8321-a998a59cd23c",
   "metadata": {},
   "outputs": [],
   "source": [
    "picklefile = f'./cache/gdf_av.pkl'\n",
    "\n",
    "print (f'started at {datetime.datetime.now()}')\n",
    "try:\n",
    "    \n",
    "    gdf_av = pd.read_pickle(picklefile)\n",
    "    print(f'Read gdf_av with shape {gdf_av.shape} from {picklefile}')\n",
    "\n",
    "except:\n",
    "    \n",
    "    print ('Picklefile not found, regenerating... this make take a while.')\n",
    "    \n",
    "    # load and prepare the dfs \n",
    "    df_a = pd.read_excel(f'./data/apra-2014-2021.xlsx')\n",
    "    df_v = pd.read_excel(f'./data/vacant-2014-2021.xlsx')\n",
    "\n",
    "    df_a['full_address'] = df_a.street_address + \", Jersey City, NJ\"\n",
    "    df_v['full_address'] = df_v.street_address + \", Jersey City, NJ\"\n",
    "\n",
    "    # geocode them\n",
    "    geolocator = Nominatim(timeout=10, user_agent = \"atownsend@cornell.edu\")\n",
    "\n",
    "    df_a['gcode'] = df_a.full_address.apply(geolocator.geocode)\n",
    "    df_v['gcode'] = df_v.full_address.apply(geolocator.geocode)\n",
    "\n",
    "    # print a warning and list of NOT geocoded\n",
    "    not_geocoded_a = df_a[df_a['gcode'].isna()]\n",
    "    print ('NOT GEOCODED — ABANDONED LIST')\n",
    "    display(not_geocoded_a)\n",
    "\n",
    "    not_geocoded_v = df_v[df_v['gcode'].isna()]\n",
    "    print ('NOT GEOCODED — VACANT LIST')\n",
    "    display(not_geocoded_v)\n",
    "\n",
    "    # combine the two geocoded dataframes\n",
    "    df_av = pd.concat([df_a,df_v])\n",
    "\n",
    "    # make a GeoDataFrame\n",
    "    # drop any that weren't geocoded, to avoid errors below\n",
    "    df_av = df_av[df_av['gcode'].notna()]\n",
    "    df_av['lat'] = [g.latitude for g in df.gcode]\n",
    "    df_av['lon'] = [g.longitude for g in df.gcode]\n",
    "    gdf_av = gpd.GeoDataFrame(df_av, geometry=gpd.points_from_xy(df_av.lon, df_av.lat))\n",
    "\n",
    "\n",
    "    # pickle the combined df\n",
    "    pd.to_pickle(gdf_av, picklefile)\n",
    "    print(f'Wrote gdf_av with shape {gdf_av.shape} to {picklefile}')\n",
    "\n",
    "print (f'finished at {datetime.datetime.now()}')"
   ]
  },
  {
   "cell_type": "code",
   "execution_count": null,
   "id": "f52d8e85-6f47-41b1-9204-aa1f3fdb0893",
   "metadata": {},
   "outputs": [],
   "source": []
  },
  {
   "cell_type": "markdown",
   "id": "ee2a4496-5fb9-4251-91a7-bdf6fb861db3",
   "metadata": {},
   "source": [
    "# EXPLORATION"
   ]
  },
  {
   "cell_type": "markdown",
   "id": "929726f2-1913-46c6-aea6-6dc7166be92e",
   "metadata": {},
   "source": [
    "# PRESENTATION"
   ]
  },
  {
   "cell_type": "raw",
   "id": "619cd27c-b204-4548-a571-9480f213aa53",
   "metadata": {},
   "source": [
    "Start developing the stuff for streamlit here, pulling from maps and plots below."
   ]
  },
  {
   "cell_type": "markdown",
   "id": "cecaac18-d246-46eb-933d-9268c366528b",
   "metadata": {},
   "source": [
    "***"
   ]
  },
  {
   "cell_type": "markdown",
   "id": "b76cb8e3-d417-4788-8062-c95320b46989",
   "metadata": {},
   "source": [
    "# PARKING LOT"
   ]
  },
  {
   "cell_type": "markdown",
   "id": "2b5c0715-6307-48fa-ac9f-29c562866ad7",
   "metadata": {
    "tags": []
   },
   "source": [
    "### 1 standard markers map"
   ]
  },
  {
   "cell_type": "code",
   "execution_count": null,
   "id": "5792c293-a176-46b1-b99a-62e9f9b52be9",
   "metadata": {
    "jupyter": {
     "source_hidden": true
    },
    "tags": []
   },
   "outputs": [],
   "source": [
    "my_map = folium.Map(\n",
    "    location=[40.7128,-74.1],\n",
    "    tiles='Stamen Toner',\n",
    "    zoom_start=14)\n",
    "\n",
    "for index, row in df_vacant_2021.iterrows():\n",
    "    folium.Marker(location=(row['lat'],row['lon']), popup=str(row.number + row.address), icon=folium.Icon(color='orange',icon='home', icon_color='#FFffff')).add_to(my_map) \n",
    "    \n",
    "for index, row in df_abandoned_2021.iterrows():\n",
    "    folium.Marker(location=(row['lat'],row['lon']), popup=str(row.address), icon=folium.Icon(color='red',icon='home', icon_color='#FFffff')).add_to(my_map)\n",
    "    \n",
    "display(my_map)"
   ]
  },
  {
   "cell_type": "markdown",
   "id": "9df5ea9f-c195-46a7-ae26-53c5a47bf084",
   "metadata": {
    "tags": []
   },
   "source": [
    "### 2 heatmap"
   ]
  },
  {
   "cell_type": "code",
   "execution_count": null,
   "id": "d4b04291-c62c-49b8-b406-5e41e9253d0d",
   "metadata": {
    "jupyter": {
     "source_hidden": true
    },
    "tags": []
   },
   "outputs": [],
   "source": [
    "# folium heat map\n",
    "from folium import plugins\n",
    "\n",
    "heat_map = folium.Map(\n",
    "    location=[40.7128,-74.1],\n",
    "    tiles='Stamen Toner',\n",
    "    zoom_start=14)\n",
    "\n",
    "heat_data = [[ row.lat, row.lon] for index, row in df_vacant_2021.iterrows() ]\n",
    "\n",
    "for index, row in df_abandoned_2021.iterrows():\n",
    "    heat_data.append([ row.lat, row.lon])\n",
    "                                        \n",
    "\n",
    "\n",
    "plugins.HeatMap(heat_data).add_to(heat_map)\n",
    "\n",
    "display(heat_map)\n"
   ]
  },
  {
   "cell_type": "markdown",
   "id": "c4bba0d6-1316-4d60-b239-bd360d64289d",
   "metadata": {
    "tags": []
   },
   "source": [
    "### 3 parcel polygons map"
   ]
  },
  {
   "cell_type": "code",
   "execution_count": null,
   "id": "19a9c4bc-46f0-49a0-b1aa-46b66456de01",
   "metadata": {
    "jupyter": {
     "source_hidden": true
    },
    "tags": []
   },
   "outputs": [],
   "source": [
    "# convert the dataframes to geodataframes\n",
    "# Convert the DataFrame's content (e.g. Lat and Lon columns) into appropriate Shapely geometries first and then use them together with the original DataFrame to create a GeoDataFrame.\n",
    "\n",
    "from geopandas import GeoDataFrame\n",
    "from shapely.geometry import Point"
   ]
  },
  {
   "cell_type": "code",
   "execution_count": null,
   "id": "982bf16b-7f6f-428c-9ff3-936c8f63e952",
   "metadata": {
    "jupyter": {
     "source_hidden": true
    },
    "tags": []
   },
   "outputs": [],
   "source": [
    "# abandoned\n",
    "geometry_abandoned = [Point(xy) for xy in zip(df_abandoned_2021.lon, df_abandoned_2021.lat)]\n",
    "# df_abandoned_2021 = df_abandoned_2021.drop(['lon', 'lat'], axis=1)\n",
    "gdf_abandoned_2021 = GeoDataFrame(df_abandoned_2021, crs=\"EPSG:4326\", geometry=geometry_abandoned)"
   ]
  },
  {
   "cell_type": "code",
   "execution_count": null,
   "id": "bb08932b-eb18-485f-8e38-e355377477c5",
   "metadata": {
    "jupyter": {
     "source_hidden": true
    },
    "tags": []
   },
   "outputs": [],
   "source": [
    "# vacants\n",
    "geometry_vacant = [Point(xy) for xy in zip(df_vacant_2021.lon, df_vacant_2021.lat)]\n",
    "# df_vacant_2021 = df_vacant_2021.drop(['lon', 'lat'], axis=1)\n",
    "gdf_vacant_2021 = GeoDataFrame(df_vacant_2021, crs=\"EPSG:4326\", geometry=geometry_vacant)"
   ]
  },
  {
   "cell_type": "code",
   "execution_count": null,
   "id": "a69575c7-7960-4969-945b-0c8c9c13e486",
   "metadata": {
    "jupyter": {
     "source_hidden": true
    },
    "tags": []
   },
   "outputs": [],
   "source": [
    "# load the parcel map shapefile as a gdf\n",
    "parcelmap = gpd.read_file(r'../../_gis/maps/NJ/_017_HUDSON/parcels_shp_dbf_Hudson/HudsonCountyParcels.shp')\n"
   ]
  },
  {
   "cell_type": "markdown",
   "id": "988f62e2-20f9-4e79-9c63-f75babe77fe8",
   "metadata": {
    "tags": []
   },
   "source": [
    "#### TODO spatial join parcelmap and vacants and abandoned?"
   ]
  },
  {
   "cell_type": "code",
   "execution_count": null,
   "id": "e7013d7d-ddea-48ee-b682-d5a3b2597d28",
   "metadata": {
    "jupyter": {
     "source_hidden": true
    },
    "tags": []
   },
   "outputs": [],
   "source": [
    "parcelmap.plot(figsize=(17,17))"
   ]
  },
  {
   "cell_type": "code",
   "execution_count": null,
   "id": "648c469b-a50f-4239-b6db-86f8eb9ece6d",
   "metadata": {
    "jupyter": {
     "source_hidden": true
    },
    "tags": []
   },
   "outputs": [],
   "source": []
  },
  {
   "cell_type": "code",
   "execution_count": null,
   "id": "779c9c4e-8137-451e-88ba-f4fbd1d7ebd2",
   "metadata": {
    "jupyter": {
     "source_hidden": true
    },
    "tags": []
   },
   "outputs": [],
   "source": []
  },
  {
   "cell_type": "code",
   "execution_count": null,
   "id": "5843ffbd-e763-4425-9881-a708b0259259",
   "metadata": {
    "jupyter": {
     "source_hidden": true
    },
    "tags": []
   },
   "outputs": [],
   "source": []
  },
  {
   "cell_type": "markdown",
   "id": "eb8d1393-89e4-41c2-9cfd-ee40b6675f59",
   "metadata": {},
   "source": [
    "----------------------------------------------------------------------------------------------------"
   ]
  },
  {
   "cell_type": "markdown",
   "id": "59fe74b3-8759-433c-8245-c3ce750f904c",
   "metadata": {},
   "source": [
    "## TODO a map using marker clusters (what's the mapped variable?)"
   ]
  },
  {
   "cell_type": "code",
   "execution_count": null,
   "id": "13a21d36-6b1c-4e3a-9d28-473bc135f62f",
   "metadata": {
    "jupyter": {
     "source_hidden": true
    },
    "tags": []
   },
   "outputs": [],
   "source": [
    "# # folium marker clusters\n",
    "# from folium.plugins import MarkerCluster\n",
    "# locations = []\n",
    "\n",
    "# # City location geometries to a list of latlongs pairs  \n",
    "# for idx, row in gdf.iterrows():\n",
    "#     locations.append([row['geometry'].y, row['geometry'].x])\n",
    "\n",
    "#     # Empty canvas\n",
    "# m = folium.Map(\n",
    "#     location=[40.7128,-74.1],\n",
    "#     tiles='Stamen Toner',\n",
    "#     zoom_start=12)\n",
    "\n",
    "# # Markercluster\n",
    "# m.add_child(MarkerCluster(locations=locations))\n",
    "# m"
   ]
  },
  {
   "cell_type": "markdown",
   "id": "176b3b87-67b7-48dc-95ac-efc7109aed2a",
   "metadata": {},
   "source": [
    "## TODO a chloropleth on parcels what's the mapped variable?)"
   ]
  },
  {
   "cell_type": "code",
   "execution_count": null,
   "id": "e9e563c6-6564-428f-85fb-a5488f08aca9",
   "metadata": {},
   "outputs": [],
   "source": [
    "# chloropleth mapping in Folium\n",
    "# https://medium.com/analytics-vidhya/create-and-visualize-choropleth-map-with-folium-269d3fd12fa0"
   ]
  },
  {
   "cell_type": "code",
   "execution_count": null,
   "id": "ade80d84-f589-47ae-a40a-45f46023d868",
   "metadata": {
    "jupyter": {
     "source_hidden": true
    },
    "tags": []
   },
   "outputs": [],
   "source": [
    "# # parcels map\n",
    "# style_function = lambda x: {'fillColor': '#00ff00'}\n",
    "\n",
    "# jc_parcels_gdf = geopandas.read_file('https://njgin.state.nj.us/download2/parcels/parcels_shp_dbf_Hudson.zip')\n",
    "# folium.GeoJson(data=jc_parcels_gdf[\"geometry\"], style_function=style_function).add_to(map)\n",
    "# map"
   ]
  }
 ],
 "metadata": {
  "kernelspec": {
   "display_name": "Python [conda env:geo]",
   "language": "python",
   "name": "conda-env-geo-py"
  },
  "language_info": {
   "codemirror_mode": {
    "name": "ipython",
    "version": 3
   },
   "file_extension": ".py",
   "mimetype": "text/x-python",
   "name": "python",
   "nbconvert_exporter": "python",
   "pygments_lexer": "ipython3",
   "version": "3.7.7"
  },
  "toc-autonumbering": true,
  "toc-showtags": false
 },
 "nbformat": 4,
 "nbformat_minor": 5
}
